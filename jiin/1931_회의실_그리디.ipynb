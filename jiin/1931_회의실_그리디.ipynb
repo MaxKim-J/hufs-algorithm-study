{
  "nbformat": 4,
  "nbformat_minor": 0,
  "metadata": {
    "colab": {
      "name": "1931_회의실_그리디.ipynb",
      "private_outputs": true,
      "provenance": [],
      "collapsed_sections": [],
      "authorship_tag": "ABX9TyO3pv5MLNR5DHg0GxkdAkDa",
      "include_colab_link": true
    },
    "kernelspec": {
      "name": "python3",
      "display_name": "Python 3"
    }
  },
  "cells": [
    {
      "cell_type": "markdown",
      "metadata": {
        "id": "view-in-github",
        "colab_type": "text"
      },
      "source": [
        "<a href=\"https://colab.research.google.com/github/MaxKim-J/hufs-algorithm-study/blob/master/jiin/1931_%ED%9A%8C%EC%9D%98%EC%8B%A4_%EA%B7%B8%EB%A6%AC%EB%94%94.ipynb\" target=\"_parent\"><img src=\"https://colab.research.google.com/assets/colab-badge.svg\" alt=\"Open In Colab\"/></a>"
      ]
    },
    {
      "cell_type": "code",
      "metadata": {
        "id": "0X2FA5fPBMaD"
      },
      "source": [
        "N = int(input())\r\n",
        "meeting = []\r\n",
        "for _ in range(N):\r\n",
        "    st, end = map(int,input().split())\r\n",
        "    meeting.append([st,end])\r\n",
        "\r\n",
        "meeting = sorted(meeting, key=lambda a: a[0])\r\n",
        "meeting = sorted(meeting, key=lambda a: a[1])\r\n",
        "\r\n",
        "cnt = 0\r\n",
        "end = 0\r\n",
        "for i in meeting:\r\n",
        "    if i[0] >= end:\r\n",
        "        end = i[1]\r\n",
        "        cnt += 1"
      ],
      "execution_count": null,
      "outputs": []
    }
  ]
}