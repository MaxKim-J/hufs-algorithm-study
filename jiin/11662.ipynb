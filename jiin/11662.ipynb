{
  "nbformat": 4,
  "nbformat_minor": 0,
  "metadata": {
    "colab": {
      "name": "11662.ipynb",
      "private_outputs": true,
      "provenance": [],
      "authorship_tag": "ABX9TyNvBhsjCXAl0KtJBfJkOurl"
    },
    "kernelspec": {
      "name": "python3",
      "display_name": "Python 3"
    }
  },
  "cells": [
    {
      "cell_type": "code",
      "metadata": {
        "id": "olDMjSofI_oE"
      },
      "source": [
        "#시작지점 ~ 도착지점 1000000 등분 후 이동하며 거리 비교\r\n",
        "import math\r\n",
        "def distance(x1,y1,x2,y2):\r\n",
        "    return math.sqrt(pow((x2-x1),2) + pow((y2-y1),2))\r\n",
        "\r\n",
        "def ternary_search(lo, hi):\r\n",
        "    while hi - lo >= 3:\r\n",
        "        p = int((2*lo+hi)/3)\r\n",
        "        q = int((lo+2*hi)/3)\r\n",
        "        p_d = distance(Ax + apx * p, Ay + apy * p, Cx + cpx * p, Cy + cpy * p)\r\n",
        "        q_d = distance(Ax + apx * q, Ay + apy * q, Cx + cpx * q, Cy + cpy * q)\r\n",
        "        if p_d > q_d:\r\n",
        "            lo = p + 1\r\n",
        "        else:\r\n",
        "            hi = q - 1\r\n",
        "\r\n",
        "    return lo, hi\r\n",
        "\r\n",
        "interval = 1000000\r\n",
        "Ax, Ay, Bx, By, Cx, Cy, Dx, Dy = map(int, input().split())\r\n",
        "\r\n",
        "apx = (Bx - Ax) / interval\r\n",
        "apy = (By - Ay) / interval\r\n",
        "cpx = (Dx - Cx) / interval\r\n",
        "cpy = (Dy - Cy) / interval\r\n",
        "\r\n",
        "lo, hi = ternary_search(0, interval)\r\n",
        "min = distance(Ax + apx * hi, Ay + apy * hi, Cx + cpx * hi, Cy + cpy * hi)\r\n",
        "for i in range(lo, hi+1):\r\n",
        "    x = distance(Ax + apx * i, Ay + apy * i, Cx + cpx * i, Cy + cpy * i)\r\n",
        "    if min > x:\r\n",
        "        min = x\r\n",
        "\r\n",
        "print(min)"
      ],
      "execution_count": null,
      "outputs": []
    }
  ]
}