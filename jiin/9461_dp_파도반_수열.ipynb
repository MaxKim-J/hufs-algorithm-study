{
  "nbformat": 4,
  "nbformat_minor": 0,
  "metadata": {
    "colab": {
      "name": "9461_dp_파도반_수열.ipynb",
      "private_outputs": true,
      "provenance": [],
      "authorship_tag": "ABX9TyPGht8qOn9OpIFXuwSO7iXi",
      "include_colab_link": true
    },
    "kernelspec": {
      "name": "python3",
      "display_name": "Python 3"
    }
  },
  "cells": [
    {
      "cell_type": "markdown",
      "metadata": {
        "id": "view-in-github",
        "colab_type": "text"
      },
      "source": [
        "<a href=\"https://colab.research.google.com/github/MaxKim-J/hufs-algorithm-study/blob/master/jiin/9461_dp_%ED%8C%8C%EB%8F%84%EB%B0%98_%EC%88%98%EC%97%B4.ipynb\" target=\"_parent\"><img src=\"https://colab.research.google.com/assets/colab-badge.svg\" alt=\"Open In Colab\"/></a>"
      ]
    },
    {
      "cell_type": "code",
      "metadata": {
        "id": "fON6TBpcgrLt"
      },
      "source": [
        "#f(n) = f(n-1) + f(n-5)\r\n",
        "#f(1) ~ f(6) -> 자체 입력 1 1 1 2 2 3\r\n",
        "\r\n",
        "T = int(input())\r\n",
        "\r\n",
        "for i in range(T):\r\n",
        "    N = int(input())\r\n",
        "    N_list = list(0 for _ in range (N+1))\r\n",
        "    if N <= 3:\r\n",
        "        print(1)\r\n",
        "    elif N <= 5:\r\n",
        "        print(2)\r\n",
        "    elif N == 6:\r\n",
        "        print(3)\r\n",
        "    else:\r\n",
        "        N_list[1:4] = [1,1,1]\r\n",
        "        N_list[4:6] = [2,2]\r\n",
        "        N_list[6] = 3\r\n",
        "        for n in range(7,N+1):\r\n",
        "            N_list[n] = N_list[n-1] + N_list[n-5]\r\n",
        "        print(N_list[N])\r\n",
        "\r\n",
        "\r\n"
      ],
      "execution_count": null,
      "outputs": []
    }
  ]
}