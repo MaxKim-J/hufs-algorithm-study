{
  "nbformat": 4,
  "nbformat_minor": 0,
  "metadata": {
    "colab": {
      "name": "2193.ipynb",
      "private_outputs": true,
      "provenance": [],
      "authorship_tag": "ABX9TyPi04iSkYlRCGy4Rc+uSP+B",
      "include_colab_link": true
    },
    "kernelspec": {
      "name": "python3",
      "display_name": "Python 3"
    }
  },
  "cells": [
    {
      "cell_type": "markdown",
      "metadata": {
        "id": "view-in-github",
        "colab_type": "text"
      },
      "source": [
        "<a href=\"https://colab.research.google.com/github/MaxKim-J/hufs-algorithm-study/blob/master/jiin/2193.ipynb\" target=\"_parent\"><img src=\"https://colab.research.google.com/assets/colab-badge.svg\" alt=\"Open In Colab\"/></a>"
      ]
    },
    {
      "cell_type": "code",
      "metadata": {
        "id": "cmrijwnvzgt_"
      },
      "source": [
        "#DP\r\n",
        "N = int(input())\r\n",
        "pinary = list(0 for _ in range (N+1))\r\n",
        "\r\n",
        "if N == (1 or 2):\r\n",
        "    print(1)\r\n",
        "else:\r\n",
        "    pinary[0] = 0  \r\n",
        "    pinary[1] = 1\r\n",
        "    pinary[2] = 1\r\n",
        "    for i in range(3,N+1):\r\n",
        "        pinary[i] = pinary[i-1] + pinary[i-2]\r\n",
        "    print(pinary[N])"
      ],
      "execution_count": null,
      "outputs": []
    }
  ]
}