{
  "nbformat": 4,
  "nbformat_minor": 0,
  "metadata": {
    "colab": {
      "name": "14502_연구실.ipynb",
      "private_outputs": true,
      "provenance": [],
      "authorship_tag": "ABX9TyMpOgcxaRvG2GCvFpJXOPhG"
    },
    "kernelspec": {
      "name": "python3",
      "display_name": "Python 3"
    },
    "language_info": {
      "name": "python"
    }
  },
  "cells": [
    {
      "cell_type": "code",
      "metadata": {
        "id": "_85XRMjmjp3W"
      },
      "source": [
        "from itertools import combinations\n",
        "import copy\n",
        "\n",
        "N, M = map(int, input().split())\n",
        "lab = []\n",
        "for _ in range(N):\n",
        "    lab.append(list(map(int, input().split())))\n",
        "\n",
        "copy_lab = copy.deepcopy(lab)\n",
        "\n",
        "z_list = []\n",
        "v_list = [] \n",
        "# 경우의 수 리스트 만들기\n",
        "for n in range(N):\n",
        "    for m in range(M):\n",
        "        if lab[n][m] == 0:\n",
        "            z_list.append([n,m])\n",
        "        elif lab[n][m] == 2:\n",
        "            v_list.append([n,m])\n",
        "\n",
        "comb_list = list(combinations(z_list,3))\n",
        "def virus(lab):\n",
        "    stack = []\n",
        "    for v in v_list:\n",
        "        stack.append(v)\n",
        "        while stack != []:\n",
        "            curr = stack.pop()\n",
        "            x = curr[0]\n",
        "            y = curr[1]\n",
        "            lab[x][y] = 2\n",
        "            # 현재방문노드의 인접 노드들\n",
        "            if ((x - 1) != -1):\n",
        "                if (lab[x-1][y] not in stack) and (lab[x-1][y] == 0):\n",
        "                    stack.append([x-1,y])\n",
        "            if ((x + 1) != N):\n",
        "                if (lab[x+1][y] not in stack) and (lab[x+1][y] == 0):\n",
        "                    stack.append([x+1,y])\n",
        "            if ((y - 1) != -1):\n",
        "                if (lab[x][y-1] not in stack) and (lab[x][y-1] == 0):\n",
        "                    stack.append([x,y-1])\n",
        "            if ((y + 1) != M):\n",
        "                if (lab[x][y+1] not in stack) and (lab[x][y+1] == 0):\n",
        "                    stack.append([x,y+1])\n",
        "\n",
        "    return sum(_.count(0) for _ in lab)\n",
        "# 벽세우기\n",
        "max = 0\n",
        "\n",
        "for comb in comb_list:\n",
        "    lab = copy.deepcopy(copy_lab)\n",
        "    for c in comb:\n",
        "        lab[c[0]][c[1]] = 1\n",
        "    cnt = virus(lab)\n",
        "    if cnt > max:\n",
        "        max = cnt\n",
        "\n",
        "print(max)"
      ],
      "execution_count": null,
      "outputs": []
    }
  ]
}