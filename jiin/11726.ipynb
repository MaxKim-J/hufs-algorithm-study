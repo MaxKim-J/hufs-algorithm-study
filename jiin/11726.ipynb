{
  "nbformat": 4,
  "nbformat_minor": 0,
  "metadata": {
    "colab": {
      "name": "11726.ipynb",
      "private_outputs": true,
      "provenance": [],
      "collapsed_sections": [],
      "authorship_tag": "ABX9TyPR3FwWicaw91wIBpOmfswP",
      "include_colab_link": true
    },
    "kernelspec": {
      "name": "python3",
      "display_name": "Python 3"
    }
  },
  "cells": [
    {
      "cell_type": "markdown",
      "metadata": {
        "id": "view-in-github",
        "colab_type": "text"
      },
      "source": [
        "<a href=\"https://colab.research.google.com/github/MaxKim-J/hufs-algorithm-study/blob/master/jiin/11726.ipynb\" target=\"_parent\"><img src=\"https://colab.research.google.com/assets/colab-badge.svg\" alt=\"Open In Colab\"/></a>"
      ]
    },
    {
      "cell_type": "code",
      "metadata": {
        "id": "UZuVs-2n0JEg"
      },
      "source": [
        "import math\r\n",
        "n = int(input())\r\n",
        "pair_list = []\r\n",
        "two = 0\r\n",
        "one = n - (2 * two)\r\n",
        "result = 0\r\n",
        "comb = 0\r\n",
        "\r\n",
        "# 경우의 수 구하기\r\n",
        "while one >= 0:\r\n",
        "    pair_list.append([one, two])\r\n",
        "    two += 1\r\n",
        "    one = n - (2 * two)\r\n",
        "    result = 2 * two + one \r\n",
        "\r\n",
        "#combination\r\n",
        "for pair in pair_list:\r\n",
        "    n = pair[0] + pair[1]\r\n",
        "    comb += math.factorial(n) // (math.factorial(pair[0]) * math.factorial(pair[1]))\r\n",
        "\r\n",
        "print(comb%10007)"
      ],
      "execution_count": null,
      "outputs": []
    },
    {
      "cell_type": "code",
      "metadata": {
        "id": "8Rsalr3Q3RuX"
      },
      "source": [
        "comb"
      ],
      "execution_count": null,
      "outputs": []
    }
  ]
}