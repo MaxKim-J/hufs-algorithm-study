{
  "nbformat": 4,
  "nbformat_minor": 0,
  "metadata": {
    "colab": {
      "name": "14888_dfs_이지인.ipynb",
      "private_outputs": true,
      "provenance": [],
      "collapsed_sections": [],
      "authorship_tag": "ABX9TyMUsohcba9gJVuLcQ1wz6Zq"
    },
    "kernelspec": {
      "name": "python3",
      "display_name": "Python 3"
    },
    "language_info": {
      "name": "python"
    }
  },
  "cells": [
    {
      "cell_type": "code",
      "metadata": {
        "id": "sC_w0rF3KAlW"
      },
      "source": [
        "#dfs_백트래킹_가지치기\n",
        "#각 연산자마다 if 구문 부여\n",
        "\n",
        "N = int(input())\n",
        "num_list = list(map(int, input().split()))\n",
        "add, sub, mul, div = map(int, input().split())\n",
        "min = 1000000001\n",
        "max = -1000000001\n",
        "\n",
        "def dfs(i, ans, add, sub, mul, div):\n",
        "    global min, max\n",
        "    if i == N:\n",
        "        if ans < min:\n",
        "            min = ans\n",
        "        if ans > max:\n",
        "            max = ans\n",
        "        return\n",
        "    \n",
        "    if add:\n",
        "        dfs(i+1, ans+num_list[i], add-1, sub, mul, div)\n",
        "    if sub:\n",
        "        dfs(i+1, ans-num_list[i], add, sub-1, mul, div)\n",
        "    if mul:\n",
        "        dfs(i+1, ans*num_list[i], add, sub, mul-1, div)\n",
        "    if div:\n",
        "        if ans <0:\n",
        "            ans = -(-ans // num_list[i])\n",
        "            dfs(i+1, ans, add, sub, mul, div-1)\n",
        "        else:\n",
        "            dfs(i+1, ans//num_list[i], add, sub, mul, div-1)\n",
        "\n",
        "dfs(1,num_list[0], add, sub, mul, div)\n",
        "print(max)\n",
        "print(min)"
      ],
      "execution_count": null,
      "outputs": []
    }
  ]
}