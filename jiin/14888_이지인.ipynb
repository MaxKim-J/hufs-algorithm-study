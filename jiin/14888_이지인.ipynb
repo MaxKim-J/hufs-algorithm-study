{
  "nbformat": 4,
  "nbformat_minor": 0,
  "metadata": {
    "colab": {
      "name": "14888_이지인.ipynb",
      "private_outputs": true,
      "provenance": [],
      "collapsed_sections": [],
      "authorship_tag": "ABX9TyPCtGhEw/Cy+pG6rk2Fa1bH",
      "include_colab_link": true
    },
    "kernelspec": {
      "name": "python3",
      "display_name": "Python 3"
    },
    "language_info": {
      "name": "python"
    }
  },
  "cells": [
    {
      "cell_type": "markdown",
      "metadata": {
        "id": "view-in-github",
        "colab_type": "text"
      },
      "source": [
        "<a href=\"https://colab.research.google.com/github/MaxKim-J/hufs-algorithm-study/blob/master/jiin/14888_%EC%9D%B4%EC%A7%80%EC%9D%B8.ipynb\" target=\"_parent\"><img src=\"https://colab.research.google.com/assets/colab-badge.svg\" alt=\"Open In Colab\"/></a>"
      ]
    },
    {
      "cell_type": "code",
      "metadata": {
        "id": "cpQyZ07rXJ9y"
      },
      "source": [
        "N = int(input())\n",
        "num_list = list(map(int, input().split()))\n",
        "oper = list(map(int, input().split()))\n",
        "operator = ''\n",
        "operator += '+' * oper[0] + '-' * oper[1] + '*' * oper[2] + '/' * oper[3]\n",
        "\n",
        "from itertools import permutations\n",
        "oper_list = list(set(permutations(operator)))\n",
        "min = 1000000001\n",
        "max = -1000000001\n",
        "\n",
        "for op in oper_list:\n",
        "    rst = num_list[0]\n",
        "    for n in range(N-1):\n",
        "        if op[n] == '+':\n",
        "            rst += num_list[n+1]\n",
        "        elif op[n] == '-':\n",
        "            rst -= num_list[n+1]\n",
        "        elif op[n] == '*':\n",
        "            rst *= num_list[n+1]\n",
        "        else:\n",
        "            if rst < 0:\n",
        "                rst *= -1\n",
        "                rst //= num_list[n+1]\n",
        "                rst *= -1\n",
        "            else:\n",
        "                rst //= num_list[n+1]\n",
        "\n",
        "    if rst < min:\n",
        "        min = rst\n",
        "    if rst > max:\n",
        "        max = rst\n",
        "\n",
        "print(max)\n",
        "print(min)\n",
        "    "
      ],
      "execution_count": null,
      "outputs": []
    }
  ]
}